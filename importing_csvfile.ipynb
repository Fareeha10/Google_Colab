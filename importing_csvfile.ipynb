{
  "nbformat": 4,
  "nbformat_minor": 0,
  "metadata": {
    "colab": {
      "name": "importing csvfile.ipynb",
      "provenance": [],
      "collapsed_sections": [],
      "include_colab_link": true
    },
    "kernelspec": {
      "name": "python3",
      "display_name": "Python 3"
    }
  },
  "cells": [
    {
      "cell_type": "markdown",
      "metadata": {
        "id": "view-in-github",
        "colab_type": "text"
      },
      "source": [
        "<a href=\"https://colab.research.google.com/github/Fareeha10/Google_Colab/blob/master/importing_csvfile.ipynb\" target=\"_parent\"><img src=\"https://colab.research.google.com/assets/colab-badge.svg\" alt=\"Open In Colab\"/></a>"
      ]
    },
    {
      "cell_type": "code",
      "metadata": {
        "id": "qVKQsLTSKy2Q",
        "colab_type": "code",
        "colab": {}
      },
      "source": [
        "import pandas as pd\n",
        "from google.colab import files"
      ],
      "execution_count": 0,
      "outputs": []
    },
    {
      "cell_type": "code",
      "metadata": {
        "id": "jJKn-MxMNJcn",
        "colab_type": "code",
        "colab": {
          "resources": {
            "http://localhost:8080/nbextensions/google.colab/files.js": {
              "data": "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",
              "ok": true,
              "headers": [
                [
                  "content-type",
                  "application/javascript"
                ]
              ],
              "status": 200,
              "status_text": ""
            }
          },
          "base_uri": "https://localhost:8080/",
          "height": 74
        },
        "outputId": "bbe23824-e57d-461c-9859-1ff4c72dc9e8"
      },
      "source": [
        "uploaded = files.upload()"
      ],
      "execution_count": 5,
      "outputs": [
        {
          "output_type": "display_data",
          "data": {
            "text/html": [
              "\n",
              "     <input type=\"file\" id=\"files-99ee48ac-ce3b-43a0-87ea-ce6d1ab3c185\" name=\"files[]\" multiple disabled />\n",
              "     <output id=\"result-99ee48ac-ce3b-43a0-87ea-ce6d1ab3c185\">\n",
              "      Upload widget is only available when the cell has been executed in the\n",
              "      current browser session. Please rerun this cell to enable.\n",
              "      </output>\n",
              "      <script src=\"/nbextensions/google.colab/files.js\"></script> "
            ],
            "text/plain": [
              "<IPython.core.display.HTML object>"
            ]
          },
          "metadata": {
            "tags": []
          }
        },
        {
          "output_type": "stream",
          "text": [
            "Saving Karachi w_date.csv to Karachi w_date.csv\n"
          ],
          "name": "stdout"
        }
      ]
    },
    {
      "cell_type": "code",
      "metadata": {
        "id": "-0LQMQweNSg2",
        "colab_type": "code",
        "colab": {
          "base_uri": "https://localhost:8080/",
          "height": 34
        },
        "outputId": "e7ecaaef-51ee-46d5-aa0d-61ce0dc6a7fe"
      },
      "source": [
        "for fn in uploaded.keys():\n",
        "  print('User uploaded file \"{name}\" with length {length} bytes'.format(\n",
        "      name=fn, length=len(uploaded[fn])))"
      ],
      "execution_count": 6,
      "outputs": [
        {
          "output_type": "stream",
          "text": [
            "User uploaded file \"Karachi w_date.csv\" with length 10239 bytes\n"
          ],
          "name": "stdout"
        }
      ]
    },
    {
      "cell_type": "code",
      "metadata": {
        "id": "ozaPlnxDNcxc",
        "colab_type": "code",
        "colab": {
          "base_uri": "https://localhost:8080/",
          "height": 54
        },
        "outputId": "1b390a1d-87c4-4deb-88db-c9338b960945"
      },
      "source": [
        "uploaded"
      ],
      "execution_count": 7,
      "outputs": [
        {
          "output_type": "execute_result",
          "data": {
            "text/plain": [
              "{'Karachi w_date.csv': b'maxtempC,mintempC,totalSnow_cm,uvIndex,uvIndex,moon_illumination,DewPointC,FeelsLikeC,HeatIndexC,WindChillC,WindGustKmph,cloudcover,humidity,precipMM,pressure,tempC,visibility,winddirDegree,windspeedKmph\\r\\n27,23,0,7,7,26,10,25,25,25,14,0,43,0,1019,27,10,260,12\\r\\n34,23,0,7,7,19,14,28,28,27,11,0,50,0,1019,34,10,66,9\\r\\n29,22,0,7,7,11,7,25,25,25,15,12,31,0,1020,29,10,174,10\\r\\n26,21,0,6,6,4,11,25,25,23,16,37,49,0,1018,26,10,245,11\\r\\n29,22,0,7,7,0,11,25,25,25,22,7,50,0,1016,29,10,321,16\\r\\n25,21,0,6,6,0,0,22,22,22,28,0,24,0,1019,25,10,70,19\\r\\n26,19,0,6,6,3,2,22,22,22,19,3,26,0,1019,26,10,89,13\\r\\n28,21,0,7,7,10,6,25,25,24,9,0,33,0,1018,28,10,199,8\\r\\n28,22,0,7,7,18,14,26,26,25,9,0,53,0,1017,28,10,174,8\\r\\n25,22,0,6,6,25,18,25,25,23,19,14,75,0,1015,25,10,259,15\\r\\n28,22,0,7,7,32,16,26,26,24,14,20,63,0,1015,28,10,122,10\\r\\n27,21,0,7,7,39,7,25,25,24,13,17,34,0,1015,27,10,220,10\\r\\n28,21,0,7,7,47,6,24,24,24,22,3,31,0,1018,28,10,69,16\\r\\n24,18,0,6,6,54,2,21,21,21,34,1,27,0,1020,24,10,61,24\\r\\n26,20,0,6,6,61,7,23,23,22,17,6,39,0,1018,26,10,181,12\\r\\n27,21,0,6,6,69,18,25,25,23,18,14,72,0,1015,27,10,269,14\\r\\n29,23,0,7,7,76,9,25,25,25,18,3,45,0,1015,29,10,74,14\\r\\n32,23,0,7,7,83,5,26,26,26,13,2,27,0,1015,32,10,148,10\\r\\n30,23,0,7,7,90,15,26,26,25,11,0,54,0,1015,30,10,261,10\\r\\n26,23,0,6,6,98,17,25,25,24,16,24,67,3.1,1015,26,10,267,12\\r\\n24,24,0,5,5,100,12,25,25,23,17,61,53,8.9,1012,24,9,215,12\\r\\n24,19,0,6,6,88,1,21,22,21,16,1,28,0,1013,24,10,278,13\\r\\n29,20,0,6,6,81,3,23,23,24,10,0,26,0,1016,29,10,144,8\\r\\n26,19,0,6,6,73,-2,21,21,22,20,0,20,0,1020,26,10,50,15\\r\\n26,19,0,6,6,66,4,22,22,21,15,0,32,0,1020,26,10,203,12\\r\\n25,21,0,6,6,59,9,24,24,23,8,3,44,0,1021,25,10,138,7\\r\\n26,18,0,6,6,51,2,22,22,21,14,11,26,0,1023,26,10,84,10\\r\\n28,20,0,6,6,44,6,23,23,23,12,1,34,0,1022,28,10,167,10\\r\\n27,20,0,6,6,37,7,23,23,23,13,12,38,0,1020,27,10,176,10\\r\\n24,21,0,6,6,30,15,24,24,22,20,28,63,0,1017,24,10,236,15\\r\\n28,18,0,5,5,26,12,24,24,22,26,28,53,1.6,1016,28,10,83,19\\r\\n25,18,0,6,6,8,5,21,21,21,29,0,34,0,1019,25,10,66,21\\r\\n25,17,0,6,6,1,4,21,21,21,27,0,33,0,1019,25,10,60,19\\r\\n25,19,0,6,6,0,3,21,21,21,27,0,30,0,1019,25,10,66,19\\r\\n27,19,0,6,6,0,3,22,22,23,25,3,29,0,1019,27,10,61,17\\r\\n26,21,0,6,6,0,8,24,24,23,14,5,40,0,1017,26,13,264,12\\r\\n24,20,0,6,6,7,6,22,22,22,29,0,38,0,1014,24,10,303,22\\r\\n22,16,0,5,5,14,-2,19,19,19,27,0,24,0,1013,22,10,313,21\\r\\n26,17,0,6,6,22,-3,21,21,21,27,1,21,0,1014,26,10,319,19\\r\\n24,17,0,6,6,29,-4,20,20,20,34,1,19,0,1019,24,18,62,24\\r\\n28,20,0,6,6,37,4,22,22,22,12,5,30,0,1019,28,14,285,9\\r\\n28,20,0,6,6,44,2,23,23,24,24,9,28,0,1018,28,14,76,17\\r\\n28,21,0,7,7,52,-1,24,24,25,36,5,18,0,1017,28,13,73,24\\r\\n29,22,0,7,7,60,5,24,24,24,17,3,29,0,1017,29,13,142,14\\r\\n27,21,0,6,6,67,12,24,24,24,14,7,49,0,1016,27,14,262,11\\r\\n32,22,0,7,7,75,10,26,26,26,10,0,40,0,1016,32,14,159,9\\r\\n30,23,0,7,7,82,5,25,25,25,11,3,28,0,1017,30,14,189,9\\r\\n27,21,0,6,6,90,11,25,25,23,20,12,47,0,1015,27,15,272,15\\r\\n25,21,0,5,5,97,16,25,25,23,30,37,65,0.5,1011,25,12,276,23\\r\\n26,22,0,5,5,100,19,26,26,24,20,54,75,0.4,1011,26,11,252,16\\r\\n25,22,0,5,5,88,19,25,25,24,25,68,76,3.2,1013,25,10,223,19\\r\\n27,22,0,7,7,80,15,26,26,24,16,43,59,0.2,1016,27,10,232,13\\r\\n27,21,0,6,6,73,11,25,25,25,11,23,45,0,1017,27,10,191,9\\r\\n28,22,0,7,7,65,5,24,24,24,22,19,30,0,1016,28,18,203,16\\r\\n29,21,0,7,7,57,10,25,25,25,20,2,43,0,1013,29,10,280,15\\r\\n27,22,0,7,7,50,15,25,25,24,26,11,61,0.2,1011,27,10,262,20\\r\\n27,22,0,6,6,42,13,25,25,24,22,26,50,0.2,1009,27,10,262,16\\r\\n27,20,0,7,7,35,1,24,24,24,24,0,22,0,1011,27,10,322,18\\r\\n26,21,0,5,5,27,9,24,24,24,13,23,41,0,1013,26,10,224,10\\r\\n27,19,0,6,6,26,11,24,24,23,12,28,45,0,1012,27,10,222,10\\r\\n26,21,0,5,5,19,14,25,25,24,31,51,56,3.2,1009,26,9,207,24\\r\\n27,18,0,6,6,12,13,24,24,24,16,5,53,0,1012,27,10,79,13\\r\\n26,21,0,6,6,4,13,25,25,23,15,3,51,0,1012,26,10,198,13\\r\\n26,22,0,6,6,0,15,25,25,24,19,2,60,0,1012,26,10,259,16\\r\\n26,19,0,6,6,0,15,25,25,23,21,0,57,0,1012,26,10,262,18\\r\\n26,21,0,6,6,3,15,25,25,23,19,8,59,0,1011,26,10,266,15\\r\\n28,21,0,7,7,10,16,25,25,24,21,2,62,0,1013,28,10,277,17\\r\\n29,23,0,7,7,17,14,26,26,26,14,4,49,0,1015,29,10,182,11\\r\\n27,22,0,7,7,24,15,25,25,24,19,13,57,0,1012,27,10,234,16\\r\\n27,21,0,6,6,32,11,24,24,23,28,2,48,0,1014,27,10,270,21\\r\\n28,22,0,7,7,39,12,25,25,24,21,29,48,0,1016,28,10,247,16\\r\\n26,21,0,6,6,46,12,25,25,23,25,3,51,0,1015,26,10,265,19\\r\\n28,22,0,7,7,54,12,26,26,25,18,5,48,0,1017,28,10,289,14\\r\\n33,25,0,7,7,61,10,27,27,28,12,6,34,0,1017,33,10,179,9\\r\\n32,24,0,6,6,68,5,26,26,27,17,26,25,0,1016,32,10,64,13\\r\\n31,25,0,7,7,75,6,27,27,28,15,9,26,0,1015,31,18,189,12\\r\\n31,25,0,7,7,83,8,26,26,27,16,11,29,0,1014,31,20,263,13\\r\\n28,23,0,7,7,90,17,26,26,25,29,1,61,0,1011,28,10,262,23\\r\\n28,22,0,7,7,97,17,26,26,25,28,5,63,0,1010,28,10,266,21\\r\\n31,23,0,7,7,100,16,27,27,26,19,3,57,0,1012,31,10,265,15\\r\\n31,24,0,7,7,88,13,27,27,27,18,4,45,0,1014,31,10,262,15\\r\\n31,24,0,7,7,81,16,27,27,27,29,8,53,0,1014,31,10,271,22\\r\\n33,26,0,7,7,74,14,28,28,28,27,34,43,0,1013,33,10,301,19\\r\\n35,25,0,8,8,66,13,29,29,29,20,11,37,0,1013,35,10,282,15\\r\\n35,27,0,8,8,59,13,30,30,30,18,15,34,0,1014,35,10,216,13\\r\\n33,26,0,7,7,52,12,29,29,29,32,17,37,0,1014,33,10,271,23\\r\\n34,25,0,8,8,45,16,29,29,29,34,7,48,0,1012,34,18,266,24\\r\\n34,27,0,8,8,37,15,30,30,30,39,8,42,0,1009,34,20,278,27\\r\\n39,26,0,8,8,30,12,31,31,31,29,10,32,0,1009,39,20,181,19\\r\\n37,27,0,8,8,26,13,31,31,31,23,3,35,0,1010,37,10,197,16\\r\\n36,28,0,8,8,9,16,31,31,31,25,2,43,0,1010,36,10,265,18\\r\\n34,26,0,8,8,1,18,31,31,30,23,4,51,0,1009,34,10,245,18\\r\\n35,28,0,7,7,0,18,33,33,31,23,23,49,0,1009,35,10,262,18\\r\\n37,28,0,8,8,0,16,32,32,32,27,1,40,0,1009,37,10,262,19\\r\\n35,27,0,8,8,0,19,32,32,30,29,12,52,0,1008,35,10,247,21\\r\\n36,28,0,8,8,6,18,32,32,31,33,5,48,0,1008,36,10,261,24\\r\\n36,28,0,8,8,14,17,32,32,31,37,1,43,0,1006,36,10,262,26\\r\\n35,27,0,8,8,21,18,32,32,30,33,4,49,0,1006,35,10,262,24\\r\\n34,26,0,7,7,29,20,32,32,29,31,33,60,0,1007,34,10,255,23\\r\\n36,27,0,8,8,36,19,32,32,30,32,5,54,0,1009,36,10,264,24\\r\\n34,26,0,8,8,44,20,32,32,30,32,5,56,0,1009,34,10,260,24\\r\\n34,28,0,8,8,52,18,32,32,30,33,5,47,0,1008,34,10,255,24\\r\\n35,27,0,8,8,59,17,32,32,31,29,8,45,0,1009,35,10,272,21\\r\\n36,29,0,8,8,67,15,31,31,31,31,13,37,0,1010,36,10,277,23\\r\\n28,25,0,6,6,74,15,27,27,27,37,38,50,18,1010,28,9,267,24\\r\\n30,24,0,7,7,82,16,28,28,27,40,14,54,0.1,1008,30,10,259,31\\r\\n32,25,0,8,8,89,15,29,29,28,31,2,48,0,1009,32,10,275,23\\r\\n32,27,0,8,8,97,18,31,31,29,18,0,52,0,1012,32,10,229,15\\r\\n34,27,0,8,8,100,17,30,30,29,22,0,50,0,1011,34,10,254,18\\r\\n32,25,0,7,7,88,19,29,29,28,31,0,59,0,1008,32,10,260,24\\r\\n32,25,0,8,8,81,20,30,30,28,32,1,63,0,1006,32,10,259,25\\r\\n33,25,0,8,8,73,21,31,31,29,29,0,64,0,1007,33,10,256,22\\r\\n34,26,0,8,8,65,21,31,31,29,32,1,63,0,1008,34,10,263,25\\r\\n32,26,0,7,7,58,22,31,31,28,33,7,70,0,1009,32,10,257,26\\r\\n34,26,0,8,8,50,20,32,32,30,27,5,60,0,1009,34,10,259,21\\r\\n36,29,0,8,8,43,15,32,32,31,28,0,39,0,1008,36,10,265,21\\r\\n37,29,0,8,8,35,13,32,32,32,31,0,33,0,1008,37,10,268,22\\r\\n36,28,0,8,8,28,17,32,32,31,32,0,43,0,1006,36,10,260,23\\r\\n36,28,0,8,8,20,18,32,32,31,38,0,46,0,1005,36,10,266,27\\r\\n40,27,0,9,9,13,14,33,33,33,35,0,38,0,1003,40,10,286,26\\r\\n39,30,0,9,9,12,9,34,34,34,30,0,23,0,1003,39,10,285,20\\r\\n37,29,0,8,8,5,16,33,33,32,27,0,37,0,1004,37,10,266,19\\r\\n39,29,0,9,9,0,11,34,34,34,32,0,28,0,1005,39,10,291,22\\r\\n39,30,0,9,9,0,14,35,35,34,24,0,33,0,1007,39,10,257,18\\r\\n36,29,0,8,8,2,17,33,33,32,29,0,42,0,1009,36,10,258,22\\r\\n34,28,0,8,8,9,20,33,33,30,34,0,56,0,1008,34,10,246,26\\r\\n34,27,0,8,8,17,21,32,32,30,37,0,62,0,1006,34,10,248,29\\r\\n32,27,0,8,8,24,22,32,32,29,39,7,65,0,1007,32,10,249,31\\r\\n31,26,0,7,7,31,22,32,32,28,42,6,70,0,1006,31,10,250,33\\r\\n32,27,0,7,7,39,24,33,33,29,39,42,75,0,1006,32,10,257,32\\r\\n33,27,0,8,8,46,24,34,34,30,37,11,72,0,1006,33,10,254,29\\r\\n34,27,0,8,8,53,23,34,34,30,30,1,70,0,1007,34,10,245,23\\r\\n35,27,0,8,8,60,22,33,33,30,34,10,64,0,1005,35,10,258,27\\r\\n33,27,0,8,8,68,23,34,34,30,34,10,71,0,1005,33,10,251,27\\r\\n34,27,0,8,8,75,23,34,34,30,29,19,70,0,1006,34,10,237,23\\r\\n33,28,0,8,8,82,24,34,34,29,30,39,72,0.2,1008,33,10,239,24\\r\\n34,28,0,8,8,89,24,35,35,30,33,30,71,0.6,1008,34,10,253,27\\r\\n33,28,0,8,8,97,24,34,34,30,38,24,72,0,1008,33,10,261,30\\r\\n33,28,0,8,8,100,24,35,35,30,38,26,72,0,1008,33,10,255,29\\r\\n35,28,0,8,8,89,23,35,35,31,35,14,65,0,1008,35,10,262,28\\r\\n35,29,0,8,8,81,23,36,36,31,37,6,65,0,1007,35,10,264,29\\r\\n35,29,0,8,8,74,23,36,36,32,39,6,60,0,1006,35,10,262,30\\r\\n35,29,0,8,8,67,22,35,35,32,39,8,57,0,1005,35,10,254,30\\r\\n35,29,0,8,8,60,22,36,36,32,34,12,59,0,1006,35,10,252,26\\r\\n40,30,0,8,8,52,19,36,36,34,35,42,45,0,1005,40,10,266,25\\r\\n40,30,0,9,9,45,20,38,38,34,29,0,47,0,1003,40,10,258,22\\r\\n37,30,0,8,8,38,22,37,37,33,36,0,56,0,1003,37,10,262,28\\r\\n35,30,0,8,8,31,23,37,37,32,39,0,60,0,1004,35,10,262,30\\r\\n36,29,0,8,8,23,23,37,37,32,38,0,60,0,1003,36,10,265,29\\r\\n36,30,0,8,8,16,24,38,38,32,31,0,63,0,1001,36,10,245,24\\r\\n40,30,0,9,9,12,22,39,39,34,31,0,50,0,1001,40,10,253,23\\r\\n37,31,0,9,9,0,23,39,39,33,34,0,56,0,1002,37,10,259,26\\r\\n36,30,0,8,8,0,24,38,38,33,34,0,62,0,1003,36,10,254,26\\r\\n36,30,0,8,8,0,24,38,38,32,36,0,64,0,1002,36,10,250,29\\r\\n35,29,0,8,8,6,25,39,39,31,40,7,71,0,1002,35,10,253,31\\r\\n36,29,0,8,8,13,25,40,40,32,34,17,69,0,1002,36,10,253,26\\r\\n40,30,0,9,9,21,22,39,39,34,30,4,52,0,1002,40,10,259,23\\r\\n37,31,0,8,8,28,23,38,38,33,33,1,56,0,1003,37,10,257,25\\r\\n36,30,0,8,8,36,24,39,39,33,32,0,63,0,1002,36,10,256,25\\r\\n36,29,0,8,8,44,25,39,39,32,29,0,65,0,1000,36,18,251,23\\r\\n35,29,0,8,8,51,26,40,40,32,27,16,72,0,999,35,12,236,22\\r\\n35,29,0,8,8,59,26,39,39,32,31,27,73,0,997,35,12,226,25\\r\\n38,29,0,9,9,66,26,41,41,33,19,1,65,0,996,38,20,197,16\\r\\n39,34,0,9,9,74,24,44,44,36,13,18,49,1.2,998,39,20,185,11\\r\\n40,33,0,9,9,81,23,42,42,35,22,27,48,0.7,999,40,19,87,17\\r\\n38,30,0,9,9,89,23,39,39,33,26,12,57,0,1000,38,19,154,21\\r\\n35,29,0,8,8,96,23,36,36,31,25,33,63,0.1,1000,35,19,183,20\\r\\n38,29,0,8,8,100,24,39,39,32,18,23,64,0,999,38,20,178,14\\r\\n35,28,0,8,8,89,25,37,37,31,29,16,74,0,997,35,20,242,24\\r\\n34,28,0,8,8,81,25,37,37,31,27,42,74,0.1,999,34,13,223,21\\r\\n34,29,0,8,8,73,24,36,36,31,29,43,70,0,1001,34,10,249,24\\r\\n34,28,0,8,8,66,24,36,36,31,30,45,68,0.1,1002,34,10,240,24\\r\\n35,28,0,8,8,58,25,37,37,31,28,35,71,0,1002,35,10,243,23\\r\\n35,29,0,8,8,51,24,36,36,31,28,33,69,0,1001,35,10,244,22\\r\\n34,28,0,8,8,43,24,36,36,31,25,30,69,0,1002,34,10,236,20\\r\\n35,29,0,8,8,36,24,36,36,31,24,25,66,0.1,1003,35,10,239,19\\r\\n35,28,0,8,8,28,25,37,37,31,32,29,71,0,1002,35,10,251,26\\r\\n33,29,0,8,8,21,25,36,36,30,42,42,72,0,1000,33,10,250,34\\r\\n33,26,0,8,8,13,24,36,36,30,44,55,70,0.2,999,33,10,256,35\\r\\n'}"
            ]
          },
          "metadata": {
            "tags": []
          },
          "execution_count": 7
        }
      ]
    },
    {
      "cell_type": "code",
      "metadata": {
        "id": "d9ibgnnsN4EL",
        "colab_type": "code",
        "colab": {
          "base_uri": "https://localhost:8080/",
          "height": 1000
        },
        "outputId": "18a0381b-8077-410a-f794-0cafb95d16a5"
      },
      "source": [
        "import pandas as pd\n",
        "import io\n",
        "df = pd.read_csv(io.StringIO(uploaded['Karachi w_date.csv'].decode('utf-8')))\n",
        "print(df)"
      ],
      "execution_count": 8,
      "outputs": [
        {
          "output_type": "stream",
          "text": [
            "     maxtempC  mintempC  totalSnow_cm  ...  visibility  winddirDegree  windspeedKmph\n",
            "0          27        23             0  ...          10            260             12\n",
            "1          34        23             0  ...          10             66              9\n",
            "2          29        22             0  ...          10            174             10\n",
            "3          26        21             0  ...          10            245             11\n",
            "4          29        22             0  ...          10            321             16\n",
            "5          25        21             0  ...          10             70             19\n",
            "6          26        19             0  ...          10             89             13\n",
            "7          28        21             0  ...          10            199              8\n",
            "8          28        22             0  ...          10            174              8\n",
            "9          25        22             0  ...          10            259             15\n",
            "10         28        22             0  ...          10            122             10\n",
            "11         27        21             0  ...          10            220             10\n",
            "12         28        21             0  ...          10             69             16\n",
            "13         24        18             0  ...          10             61             24\n",
            "14         26        20             0  ...          10            181             12\n",
            "15         27        21             0  ...          10            269             14\n",
            "16         29        23             0  ...          10             74             14\n",
            "17         32        23             0  ...          10            148             10\n",
            "18         30        23             0  ...          10            261             10\n",
            "19         26        23             0  ...          10            267             12\n",
            "20         24        24             0  ...           9            215             12\n",
            "21         24        19             0  ...          10            278             13\n",
            "22         29        20             0  ...          10            144              8\n",
            "23         26        19             0  ...          10             50             15\n",
            "24         26        19             0  ...          10            203             12\n",
            "25         25        21             0  ...          10            138              7\n",
            "26         26        18             0  ...          10             84             10\n",
            "27         28        20             0  ...          10            167             10\n",
            "28         27        20             0  ...          10            176             10\n",
            "29         24        21             0  ...          10            236             15\n",
            "..        ...       ...           ...  ...         ...            ...            ...\n",
            "149        36        30             0  ...          10            245             24\n",
            "150        40        30             0  ...          10            253             23\n",
            "151        37        31             0  ...          10            259             26\n",
            "152        36        30             0  ...          10            254             26\n",
            "153        36        30             0  ...          10            250             29\n",
            "154        35        29             0  ...          10            253             31\n",
            "155        36        29             0  ...          10            253             26\n",
            "156        40        30             0  ...          10            259             23\n",
            "157        37        31             0  ...          10            257             25\n",
            "158        36        30             0  ...          10            256             25\n",
            "159        36        29             0  ...          18            251             23\n",
            "160        35        29             0  ...          12            236             22\n",
            "161        35        29             0  ...          12            226             25\n",
            "162        38        29             0  ...          20            197             16\n",
            "163        39        34             0  ...          20            185             11\n",
            "164        40        33             0  ...          19             87             17\n",
            "165        38        30             0  ...          19            154             21\n",
            "166        35        29             0  ...          19            183             20\n",
            "167        38        29             0  ...          20            178             14\n",
            "168        35        28             0  ...          20            242             24\n",
            "169        34        28             0  ...          13            223             21\n",
            "170        34        29             0  ...          10            249             24\n",
            "171        34        28             0  ...          10            240             24\n",
            "172        35        28             0  ...          10            243             23\n",
            "173        35        29             0  ...          10            244             22\n",
            "174        34        28             0  ...          10            236             20\n",
            "175        35        29             0  ...          10            239             19\n",
            "176        35        28             0  ...          10            251             26\n",
            "177        33        29             0  ...          10            250             34\n",
            "178        33        26             0  ...          10            256             35\n",
            "\n",
            "[179 rows x 19 columns]\n"
          ],
          "name": "stdout"
        }
      ]
    },
    {
      "cell_type": "code",
      "metadata": {
        "id": "IK5YoEVaOXj4",
        "colab_type": "code",
        "colab": {}
      },
      "source": [
        ""
      ],
      "execution_count": 0,
      "outputs": []
    }
  ]
}